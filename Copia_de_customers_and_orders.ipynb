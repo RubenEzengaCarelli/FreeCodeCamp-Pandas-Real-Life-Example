{
  "cells": [
    {
      "cell_type": "markdown",
      "metadata": {
        "id": "view-in-github",
        "colab_type": "text"
      },
      "source": [
        "<a href=\"https://colab.research.google.com/github/RubenEzengaCarelli/FreeCodeCamp-Pandas-Real-Life-Example/blob/master/Copia_de_customers_and_orders.ipynb\" target=\"_parent\"><img src=\"https://colab.research.google.com/assets/colab-badge.svg\" alt=\"Open In Colab\"/></a>"
      ]
    },
    {
      "cell_type": "markdown",
      "metadata": {
        "id": "piiX_CRNFYUi"
      },
      "source": [
        "# Technical Challenge ! Custiomers and Orders - The lifeblood of any business!\n",
        "\n",
        "This notebook depends on two data files: customers.scv and orders.csv. These files are hosted in the cloud (or Github), so for simplicity, we are providing you with the code to download and save the two files in a folder called 'sample_data' which lives within this notebook session (not on your local computer nor Google Drive).\n",
        "\n",
        "![sample_data folder in notebook session](https://raw.githubusercontent.com/anyoneai/notebooks/main/customers_and_orders/images/sample_data_folder.png)\n",
        "\n",
        "Please execute the first code snippet before moving to the rest of the exercise as this code will import the data from the files for you to be able to execute the rest of the exercise.\n",
        "\n",
        "Remember as we said in the previous lecture, you have to save this notebook into your Google Drive by going to menu File/Save a Copy In Drive, or clicking in the button \"Copy to Drive\". This way, you will not lose any work you've done and the file will persist with your latest changes in your Google Drive. Also we recommend you to rename your .ipynb in your Google Drive, so you can easily find it in the future."
      ]
    },
    {
      "cell_type": "code",
      "execution_count": 1,
      "metadata": {
        "colab": {
          "base_uri": "https://localhost:8080/"
        },
        "id": "MWpVO242FQHC",
        "outputId": "e6d5c09e-b09a-4b81-ea26-b79b3e381b1e"
      },
      "outputs": [
        {
          "output_type": "stream",
          "name": "stdout",
          "text": [
            "Customers and orders CSV files have been added './sample_data'\n"
          ]
        }
      ],
      "source": [
        "import requests\n",
        "\n",
        "def import_data_files():\n",
        "  r = requests.get('https://raw.githubusercontent.com/anyoneai/notebooks/main/customers_and_orders/data/customers.csv')\n",
        "  with open('./sample_data/customers.csv', 'wb') as f:\n",
        "    f.write(r.content)\n",
        "\n",
        "  r = requests.get('https://raw.githubusercontent.com/anyoneai/notebooks/main/customers_and_orders/data/orders.csv')\n",
        "  with open('./sample_data/orders.csv', 'wb') as f:\n",
        "    f.write(r.content)\n",
        "  \n",
        "import_data_files()\n",
        "print(\"Customers and orders CSV files have been added './sample_data'\")"
      ]
    },
    {
      "cell_type": "markdown",
      "metadata": {
        "id": "JQAduY-RWKyB"
      },
      "source": [
        "# Exercise 1: Processing Customers data (difficulty medium)\n",
        "\n",
        "The sample customer data in 'customers.csv' file has just 5 columns: CustomerId, First Name, Last Name, City and State\n",
        "\n",
        "![Data sample](https://raw.githubusercontent.com/anyoneai/notebooks/main/customers_and_orders/images/customers.png)\n",
        "\n",
        "We strongly recommend that you complete from the [Prep Course: Intro to Python](https://colab.research.google.com/github/anyoneai/notebooks/blob/main/python3_crash_course.ipynb) the following section:\n",
        "- Section 7: File I/O (to understand how to read CSV file) \n",
        "- Section 6: For Loop (to navigate the contents of the CSV file)\n",
        "- Section 5: Tuples, Lists, and Dictionaries (to manipulate the data of the CSV file)\n",
        "\n",
        "With this, we hope you can complete this exercise successfully. Although if you want to solve this with libraries or any other way, you are welcome to do it your way.\n",
        "\n",
        "*Hint:* We advise you to take a look at the data before you start.\n",
        "**if you want to manually take a look at the data before you start, please see the content of the data [here](https://github.com/anyoneai/notebooks/blob/main/customers_and_orders/data/customers.csv).\n",
        "\n",
        "*Hint*: There are many ways to do this exercise you can do your own, although here's some help. You can solve this exercise reading and parsing CSV files, structuring data into dictionaries, and using for loops to navigate the contents\n",
        "\n",
        "*Hint*: Also, keep in mind that data might not be clean and you might have to figure out how to deal with that data from the code, without having to modify the data source.\n",
        "\n",
        "Below are the 5 questions you'll have to answer to pass the evaluation:"
      ]
    },
    {
      "cell_type": "markdown",
      "metadata": {
        "id": "kJq7S8sBfbOW"
      },
      "source": [
        "**Question 1:** How many customers are in the file?\n",
        "(as help, we have added some comments and starter code to help you structure the solution)"
      ]
    },
    {
      "cell_type": "code",
      "execution_count": 9,
      "metadata": {
        "colab": {
          "base_uri": "https://localhost:8080/"
        },
        "id": "oMnUFBFb2RUb",
        "outputId": "3bce3e1e-1cfd-4072-cbcf-3db863cc0d7c"
      },
      "outputs": [
        {
          "output_type": "stream",
          "name": "stdout",
          "text": [
            "471\n",
            "All done!\n"
          ]
        }
      ],
      "source": [
        "from os.path import exists\n",
        "import csv\n",
        "\n",
        "datafile = \"./sample_data/customers.csv\"\n",
        "if not exists(datafile):\n",
        "  raise SystemExit(\"You should run the first code cell and download the dataset files!\")\n",
        "\n",
        "list_unique_cs = []\n",
        "different_customers_count = 0\n",
        "\n",
        "with open(datafile, 'r') as fl:\n",
        "  csvreader = csv.reader(fl, delimiter=',')\n",
        "  next(csvreader)\n",
        "  for line in csvreader: \n",
        "    if (line[0] not in list_unique_cs):\n",
        "        list_unique_cs.append(line[0])\n",
        "        different_customers_count += 1\n",
        "  print(different_customers_count)\n",
        "\n",
        "print(\"There are 471 different customers in the file\")\n"
      ]
    },
    {
      "cell_type": "markdown",
      "metadata": {
        "id": "uffBnNgz_570"
      },
      "source": [
        "**Question 2:** In how many different states do the customers live in?"
      ]
    },
    {
      "cell_type": "code",
      "execution_count": 10,
      "metadata": {
        "id": "Bi_yid0sMe3-",
        "colab": {
          "base_uri": "https://localhost:8080/"
        },
        "outputId": "b2a78e81-7ecc-4b12-e396-82a410b1f0e2"
      },
      "outputs": [
        {
          "output_type": "stream",
          "name": "stdout",
          "text": [
            "The customers live in 15 different states: \n",
            "['AZ', 'NV', 'FL', 'WA', 'NH', 'ID', 'CO', 'Ca', 'TX', 'NM', 'OR', 'UT', 'MA', 'IN']\n"
          ]
        }
      ],
      "source": [
        "from typing import List\n",
        "\n",
        "datafile = \"./sample_data/customers.csv\"\n",
        "\n",
        "lista = []\n",
        "different_states_count = 0\n",
        "\n",
        "with open(datafile, 'r') as fl:\n",
        "  csvreader = csv.reader(fl, delimiter=',')\n",
        "  next(csvreader)\n",
        "  for line in csvreader:\n",
        "      if (\" \" not in line[4]) and (line[4] not in lista):\n",
        "        lista.append(line[4])\n",
        "        different_states_count += 1\n",
        "print('The customers live in', different_states_count, 'different states: ')\n",
        "\n",
        "del lista[0]\n",
        "print(lista)"
      ]
    },
    {
      "cell_type": "markdown",
      "metadata": {
        "id": "DC59SZYiMfNY"
      },
      "source": [
        "**Question 3** What is the state with most customers?"
      ]
    },
    {
      "cell_type": "code",
      "execution_count": 25,
      "metadata": {
        "id": "tfGU3w-OMhA9",
        "colab": {
          "base_uri": "https://localhost:8080/"
        },
        "outputId": "3cfe66c9-b41b-4022-af11-58f26c7a79f4"
      },
      "outputs": [
        {
          "output_type": "stream",
          "name": "stdout",
          "text": [
            "{'CA': 567, 'AZ': 6, 'NV': 8, 'FL': 3, 'WA': 1, 'NH': 1, 'ID': 1, 'CO': 3, 'Ca': 2, 'TX': 2, 'NM': 3, 'OR': 1, 'UT': 2, 'MA': 1, 'IN': 1}\n",
            "The State with most customer is  CA  with  567  customers.\n"
          ]
        }
      ],
      "source": [
        "# open file and init vars\n",
        "\n",
        "datafile = \"./sample_data/customers.csv\"\n",
        "\n",
        "lista_states = []\n",
        "\n",
        "with open(datafile, 'r') as fl:\n",
        "  csvreader = csv.reader(fl, delimiter=',')\n",
        "  next(csvreader)\n",
        "  for line in csvreader:\n",
        "    lista_states.append(line[4].rstrip())\n",
        "\n",
        "#Simplyfied counting whit get()\n",
        "\n",
        "dict = {}\n",
        "\n",
        "for i in lista_states:\n",
        "\tdict[i] = dict.get(i, 0) + 1\n",
        "print(dict)\n",
        "\n",
        "most = max(dict.values())\n",
        "\n",
        "list_of_key = list(dict.keys())\n",
        "list_of_value = list(dict.values())\n",
        " \n",
        "position1 = list_of_value.index(most)\n",
        "\n",
        "print('The State with most customer is ', list_of_key[position1], ' with ', most, ' customers.' )"
      ]
    },
    {
      "cell_type": "code",
      "source": [
        "# open file and init vars\n",
        "\n",
        "datafile = \"./sample_data/customers.csv\"\n",
        "\n",
        "lista_states = []\n",
        "\n",
        "with open(datafile, 'r') as fl:\n",
        "  csvreader = csv.reader(fl, delimiter=',')\n",
        "  next(csvreader)\n",
        "  for line in csvreader:\n",
        "    lista_states.append(line[4].rstrip())\n",
        "\n",
        "#Simplyfied counting whit get()\n",
        "\n",
        "dict = {}\n",
        "\n",
        "for i in lista_states:\n",
        "\tdict[i] = dict.get(i, 0) + 1\n",
        "print(dict)\n",
        "\n",
        "most = max(dict.values())\n",
        "\n",
        "# list_of_key = list(dict.keys())\n",
        "# list_of_value = list(dict.values())\n",
        "# print(list_of_value)\n",
        "# list_of_value = list_of_value.sort()\n",
        "\n",
        "# position1 = list_of_value.index(most)\n",
        "\n",
        "# print('The State with most customer is ', list_of_key[position1], ' with ', most, ' customers.' )"
      ],
      "metadata": {
        "colab": {
          "base_uri": "https://localhost:8080/"
        },
        "id": "M-lOYmk4iTrI",
        "outputId": "89aecb63-be66-4f8b-8646-bfd99ca53ed7"
      },
      "execution_count": 38,
      "outputs": [
        {
          "output_type": "stream",
          "name": "stdout",
          "text": [
            "{'CA': 567, 'AZ': 6, 'NV': 8, 'FL': 3, 'WA': 1, 'NH': 1, 'ID': 1, 'CO': 3, 'Ca': 2, 'TX': 2, 'NM': 3, 'OR': 1, 'UT': 2, 'MA': 1, 'IN': 1}\n"
          ]
        }
      ]
    },
    {
      "cell_type": "markdown",
      "metadata": {
        "id": "7mcM6cUAMhLB"
      },
      "source": [
        "**Question 4** What is the state with the least customers?"
      ]
    },
    {
      "cell_type": "code",
      "execution_count": 12,
      "metadata": {
        "id": "8T0Ka2RqMi3P",
        "colab": {
          "base_uri": "https://localhost:8080/"
        },
        "outputId": "1e6ccedc-e568-48cb-fce6-ca8f8290d148"
      },
      "outputs": [
        {
          "output_type": "stream",
          "name": "stdout",
          "text": [
            "The State with least customer is  WA  with  1  customers.\n"
          ]
        }
      ],
      "source": [
        "# open file and init vars\n",
        "\n",
        "least = min(dict.values())\n",
        " \n",
        "position2 = list_of_value.index(least)\n",
        "\n",
        "print('The State with least customer is ', list_of_key[position2], ' with ', least, ' customers.' )\n",
        "\n",
        "# evaluate the contents of the file"
      ]
    },
    {
      "cell_type": "markdown",
      "metadata": {
        "id": "h6fIy7hXHF6A"
      },
      "source": [
        "**Question 5:** What is the most common last name?"
      ]
    },
    {
      "cell_type": "code",
      "execution_count": 13,
      "metadata": {
        "id": "k8M1DmA75Km7",
        "colab": {
          "base_uri": "https://localhost:8080/"
        },
        "outputId": "99acd28d-c018-468f-ee5d-826b2281b3b9"
      },
      "outputs": [
        {
          "output_type": "stream",
          "name": "stdout",
          "text": [
            "{'LastName': 1, 'Piedrahita': 1, 'Abraham': 2, 'Jauregui': 2, 'Mota-Sanchez': 2, 'McCrorie': 1, 'Ravelo': 1, 'Klink': 1, 'Smith': 8, 'Tan': 1, 'Huynh': 4, 'Gilartelli': 3, 'Persky': 1, 'McCarley ': 2, 'Gantous': 2, 'Wollman': 3, 'Tuell': 2, 'Cosio': 1, 'Somosot': 1, 'Quijada': 2, 'Marin': 3, 'Park': 1, 'Lightfoot': 1, 'McMurray': 3, 'Kirschner': 1, 'Zhang': 3, 'Stinson': 2, 'Galvan': 1, 'Megerdichian': 2, 'Rocha': 4, 'Musleh': 2, 'Sloan': 2, 'Zapata': 1, 'Roelants': 1, 'Vojnar': 1, 'Cho': 2, 'Harold': 1, 'Reyes': 4, 'Thompson': 2, 'Scates Johnson': 2, 'Morris': 1, 'Campos': 1, 'Harris': 3, 'Tzarax': 1, 'Cohn': 1, 'Martinez': 2, 'Sullivan': 1, 'Carreon': 1, 'McMahon': 4, 'Montes': 2, 'Mopsikoff': 1, 'Tudela': 1, 'Garcia': 4, 'Coffey': 2, 'Kim': 1, 'Gonzalez': 4, 'Johnson': 4, 'Banik': 2, 'Valen': 1, 'Hatheway': 1, 'Newhouse': 1, 'Padilla': 1, 'Spillman': 1, 'Hillard': 1, 'Brovko': 1, 'Gomez': 5, 'Robertson': 2, 'Hodgson': 1, 'Ambulo': 2, 'Shrestha': 2, 'Welsh': 1, 'Ojeda': 1, 'Halverson': 3, 'Perez': 4, 'Hester': 1, 'Gressitt': 1, 'Warren': 1, 'Jannette': 3, 'Hernandez': 1, 'Courtis': 2, 'Irwin': 2, 'Davidson-Dillon': 1, 'Tavares': 2, 'Gonzales': 2, 'Freeman': 2, 'Wicker': 1, 'Kulka': 1, 'Mercado': 2, 'Spizer': 2, 'Coomb': 2, 'Jackson': 3, 'Udoma': 1, 'Yi': 1, 'Guzman': 3, 'Chang': 3, 'Hadley': 3, 'Demotte': 1, 'Zambrana': 5, 'Macias': 2, 'Pillarella': 1, 'Soto': 4, 'Yount': 2, 'Lanzi': 2, 'Chin': 1, 'Williams': 2, 'Zam': 2, 'Schneider': 1, 'Ferguson': 1, 'Villela': 1, 'Munoz': 2, 'Shao': 1, 'Pante': 1, 'Tycholis': 2, 'Highshoe': 1, 'Molina': 1, 'Ozekici': 1, 'Arroyo': 2, 'Espinoza': 1, 'Azizi': 1, 'Choi': 1, 'Rios': 1, 'Vong': 1, 'Ascolese': 1, 'Trevare': 2, 'Schaffner': 1, 'McDermott': 3, 'Nure': 2, 'Picon': 1, 'Hamilton': 1, 'Mukora': 1, 'Khachadoorian': 1, 'Pimentel': 1, 'Arguelles ': 1, 'Kressh': 1, 'Miller': 3, 'Hall': 1, 'Gunther': 1, 'Heredia': 1, 'Huard': 1, 'Key': 1, 'Maknouni': 1, 'Dragt': 1, 'Seville-Douglas': 1, 'Cisneros': 1, 'Galindo': 2, 'Rivera Marmol ': 1, 'Olson': 1, 'Divas': 1, 'Canizales': 3, 'Lee': 1, 'De Guia': 1, 'Weltsch': 2, 'Randall': 1, 'Harbor': 1, 'Standing': 1, 'Sanderford': 1, 'Hisaoka': 2, 'Orona': 1, 'Rodriguez Lemos': 1, 'Jones': 2, 'Mumford': 4, 'Hendrix': 1, 'Zamora': 1, 'Ray': 1, 'Wildey': 2, 'Yan': 1, 'McLean': 1, 'Sanchez': 1, 'Tafolla': 2, 'Rojas': 1, 'Sainbaatar': 1, 'DePland': 1, 'Rodriguez': 3, 'Orozco': 1, 'Nimaga': 1, 'Fabbro': 1, 'Atkisson': 1, 'Vrbka': 1, 'Pulido': 2, 'Vega': 2, 'Kovelman': 1, 'Puno': 1, 'Soliz ': 2, 'Bagale': 1, 'Sarraute': 1, 'Trejo ': 1, 'Lopez': 2, 'Harrison': 1, 'Parkinson': 1, 'Hoong': 1, 'Franco': 2, 'Gaytan': 1, 'Londiol': 1, 'Vargas': 1, 'Mortellaro': 2, 'Maye': 1, 'Bres': 1, 'Brummer': 1, 'Ortega': 3, 'Mathewson': 1, 'Myhre': 1, 'Reyna': 2, 'Quintana': 2, 'Diaz': 2, 'Garmon': 2, 'Velis': 1, 'Gechtman': 1, 'Oh': 2, 'Mather': 1, 'Tabak': 2, 'Edison': 1, 'Gatza': 1, 'Guerra': 4, 'Previch': 3, 'Doggett': 5, 'Giffin': 1, 'Lozano': 1, 'Mendes': 1, 'Finan': 2, 'Ruiz': 2, 'Takarada': 3, 'Trevino': 1, 'Nicholls': 1, 'Riley': 1, 'McNellis': 1, 'Mueller': 1, 'Carvalho': 1, 'Stevenson': 1, 'Silva': 2, 'Hordyk': 1, 'Kemble': 1, 'Montellano Luna': 4, 'Mosombite': 1, 'Azimi': 1, 'Juarez ': 1, 'Wright': 1, 'Resnick': 2, 'Harbison-Michel': 1, 'Drame': 1, 'Gyerman': 1, 'George': 1, 'Montalvo': 1, 'Sands': 1, 'Gigliotti': 1, 'Bernabe': 1, 'Scott ': 2, 'Begley': 2, 'Rockwell': 1, 'Montgomery': 1, 'Minnick': 2, 'Htwe': 1, 'Zilliox': 1, 'Ciotti Parton': 1, 'Sampson': 1, 'Cervantes': 1, 'Shaller': 1, 'Diazgomez': 1, 'Ramirez': 3, 'Nazaretyan': 1, 'Labonte': 3, 'Dominguez ': 1, 'Oquinn': 1, 'Tindan': 1, 'Garabet': 1, 'Brady': 3, 'Munana': 2, 'Osorio': 1, 'Gamino': 1, 'Westfall ': 1, 'Quintero': 1, 'Hsu': 1, 'Ringgold ': 1, 'Saggese': 2, 'Ruiz ': 1, 'Hanley': 1, 'Samilin': 1, 'Abrams': 1, 'Vital': 1, 'Coffin': 1, 'Womack': 1, 'Vorachard': 1, 'Abuel': 1, 'Xu': 1, 'Newsome': 1, 'Allen': 2, 'Belloso': 1, 'Haslacker': 1, 'Sierra': 1, 'Angelo': 1, 'Abrishamchian': 1, 'Shaughnessy ': 1, 'Xiao': 1, 'Barretto': 1, 'Simpson': 2, 'Van Dam': 1, 'Shields': 1, 'Medina': 1, 'Navarro': 1, 'Cruz-Bonde': 1, 'Alvarado': 2, 'Berina': 1, 'VanDyke': 1, 'Burns': 1, 'Briseno': 1, 'Lay': 1, 'Machtolff': 1, 'Resendez': 1, 'Zimber': 2, 'Handy': 1, 'Corosu': 1, 'Weisman': 1, 'Ortiz': 3, 'Plunier': 1, 'Felix': 1, 'Haghiri': 1, 'Powell': 1, 'Redburn': 1, 'Roth Strong ': 1, 'Noorsher': 1, 'Emelianov ': 1, 'Sabo': 1, 'Koyabu': 1, 'Qureshi': 2, 'Kartounian': 1, 'Hunter ': 1, 'Sutton': 1, 'Amato Mayes': 1, 'Herron': 1, 'Matsumoto': 2, 'Ishimaru': 2, 'Sandoval': 1, 'Castrinos': 2, 'Luu': 1, 'Augustine': 2, 'Young': 1, 'Kartalian ': 1, 'Church': 1, 'Estrada': 2, 'Martsolf': 2, 'Markel': 1, 'Hyatt': 1, 'Torres': 1, 'Straser': 1, 'Pappenscheller': 1, 'Marquez': 1, 'Gholston': 1, 'Ferraro': 1, 'Casey': 1, 'Madlambayan': 1, 'Knibb': 1, 'Dunne': 1, 'Morales': 1, 'Valenzuela': 1, 'Ochiai': 1, 'Barajas': 1, 'Horan': 1, 'Han': 1, 'Pelletier': 1, 'Aghakhani': 1, 'Sartorio': 1, 'Loose': 1, 'Uzun': 1, 'Goldfarb': 1, 'Jonke': 1, 'Anderson': 1, 'Hong': 1, 'Buda': 1, 'John': 1, 'Wolin': 1, 'Najad': 1, 'Yates': 1, 'Rivera': 1, 'Arias': 1, 'Oconnor': 1, 'Valadez': 1, 'Marshall': 1, 'Paciente': 1, 'Woodward': 1, 'Wembes': 1, 'Vazquez': 1, 'Carrier': 1, 'Stelyn': 1, 'Gabbayan': 1, 'Lainfiesta': 1, 'McMains': 1, 'Jia': 1, 'Leon': 1, 'Seok': 1, 'Roberts': 1, 'Lemaistre': 1, 'Kennedy': 1, 'Connell': 1, 'Balcarcel': 1, 'Greeson': 1, 'Puglisi': 1, 'Youssef': 1, 'Rudi': 1, 'Spencer': 1, 'Corcoran': 1, 'Yamada': 1, 'Kirilenko': 1, 'Muggy': 1, 'Valdez': 1, 'Merle': 1, 'Bouchat': 1, 'Jimenez': 1, 'Hayden': 1, 'Schoenfeld': 1, 'Herrera': 1, 'Castillo': 1, 'Fillmore': 1, 'Schorr': 1, 'Verduzco': 1, 'Zamudio': 1, 'Babbitt': 1, 'Muniz': 1, 'Stephens': 1, 'Borough': 1, 'Ferrer': 1, 'Cruz': 1, 'Monteclaro': 1, 'Hall Reif': 1, 'Mialoto Jr.': 1, 'Hughes': 1, 'Okonma': 1}\n",
            "The most common last name is  \" Smith \" which appears 8 times\n"
          ]
        }
      ],
      "source": [
        "# open file and init vars\n",
        "\n",
        "lista_last_names = []\n",
        "\n",
        "with open(datafile, 'r') as fl:\n",
        "  csvreader = csv.reader(fl, delimiter=',')\n",
        "  for line in csvreader:\n",
        "    lista_last_names.append(line[2])  \n",
        "# print(lista_last_names)\n",
        "\n",
        "dict = {}\n",
        "\n",
        "for i in lista_last_names:\n",
        "\tdict[i] = dict.get(i, 0) + 1\n",
        "print(dict)\n",
        "\n",
        "# print(dict.items())\n",
        "\n",
        "bigcount = None\n",
        "bigword = None\n",
        "for word, count in dict.items():\n",
        "\tif bigcount is None or count > bigcount:\n",
        "\t\tbigcount = count\n",
        "\t\tbigword = word\n",
        "# print(bigword, bigcount)\n",
        "\n",
        "print('The most common last name is ', '\"', bigword, '\"', 'which appears', bigcount, 'times')"
      ]
    },
    {
      "cell_type": "markdown",
      "metadata": {
        "id": "YPRma1t9NoFk"
      },
      "source": [
        "# Exercise 2: Processing Orders data (difficulty high)\n",
        "\n",
        "The second sample files contains orders placed by customers from the first file. Be careful, this file has many rows and you most likely should not print the contents of the whole file. \n",
        "\n",
        "The file contains the following columns: CustomerID, OrderID, Date, OrderTotal, ProductName, Price\n",
        "\n",
        "![Data sample](https://raw.githubusercontent.com/anyoneai/notebooks/main/customers_and_orders/images/orders.png)\n",
        "\n",
        "*Hint:* We advise you to take a look at the data before you start.\n",
        "**if you want to manually take a look at the data before you start, please see the content of the data [here](https://raw.githubusercontent.com/anyoneai/notebooks/main/customers_and_orders/data/orders.csv).\n",
        "\n",
        "*Hint*: There are many ways to do this exercise you can do your own, although here's some help. You can solve this exercise reading and parsing CSV files, structuring data into dictionaries, and using for loops to navigate the contents\n",
        "\n",
        "*Hint*: Also, the data is not clean and you will have to figure out how to deal with that data from the code, without having to modify the data source.\n",
        "\n",
        "\n",
        "\n",
        "**Question #1:** How many unique orders are in the orders.csv file?\n",
        "\n",
        "**Question #2:** What is the average number of items per order (rounded to two decimal places)?\n",
        "\n",
        "**Question #3:** What is the highest number of items per order?\n",
        "\n",
        "**Question #4:** What is the number of orders placed in October 2021?\n",
        "\n",
        "**Question #5:** Which customer spent the most amount of money in 2021?\n",
        "\n",
        "**Question #6:** Historically, what is the best month for sales?\n",
        "\n",
        "Once you get your answers, remember to go back to the course and introduce them in the multiple choice quiz"
      ]
    },
    {
      "cell_type": "code",
      "execution_count": 52,
      "metadata": {
        "id": "8ipJTrfs5QVM",
        "colab": {
          "base_uri": "https://localhost:8080/"
        },
        "outputId": "959a3545-948e-4e21-c8ad-2b1cdeb6ef39"
      },
      "outputs": [
        {
          "output_type": "stream",
          "name": "stdout",
          "text": [
            "There are  16672 unique orders in  the orders.csv file \n"
          ]
        }
      ],
      "source": [
        "# Question 1:  How many unique orders are in the orders.csv file?\n",
        "\n",
        "datafile = \"./sample_data/orders.csv\"\n",
        "\n",
        "lista_unique_or = []\n",
        "linecount = 0\n",
        "different_orders_count = 0\n",
        "\n",
        "with open(datafile, 'r') as fl:\n",
        "  csvreader = csv.reader(fl, delimiter=',')\n",
        "  for line in csvreader:    \n",
        "      if (line[1] not in lista_unique_or) and line[1] != 'OrderID':\n",
        "        lista_unique_or.append(line[1])\n",
        "        different_orders_count += 1\n",
        "num_un_ord = len(lista_unique_or)  \n",
        "print('There are ', num_un_ord, 'unique orders in  the orders.csv file ')"
      ]
    },
    {
      "cell_type": "code",
      "source": [
        "# Question 2: What is the average number of items per order (rounded to two decimal places)?\n",
        "datafile = \"./sample_data/orders.csv\"\n",
        "\n",
        "line_count = 0\n",
        "\n",
        "with open(datafile, 'r') as fl:\n",
        "  csvreader = csv.reader(fl, delimiter=',')\n",
        "  for line in csvreader:\n",
        "      line_count += 1\n",
        "# print(line_count)\n",
        "\n",
        "avg = line_count / num_un_ord\n",
        "print(f\"The average number of items per order is {avg:.2f}\")"
      ],
      "metadata": {
        "colab": {
          "base_uri": "https://localhost:8080/"
        },
        "id": "cj4U64U1A1kS",
        "outputId": "a3409351-6829-481f-db5f-393be3016970"
      },
      "execution_count": 53,
      "outputs": [
        {
          "output_type": "stream",
          "name": "stdout",
          "text": [
            "The average number of items per order is 1.76\n"
          ]
        }
      ]
    },
    {
      "cell_type": "code",
      "source": [
        "# Question 3: What is the highest number of items per order?\n",
        "\n",
        "datafile = \"./sample_data/orders.csv\"\n",
        "\n",
        "lista_orders = []\n",
        "\n",
        "with open(datafile, 'r') as fl:\n",
        "  csvreader = csv.reader(fl, delimiter=',')\n",
        "  next(csvreader) \n",
        "  for line in csvreader:\n",
        "    lista_orders.append(line[1])  \n",
        "# print(lista_orders)\n",
        "\n",
        "dict = {}\n",
        "\n",
        "for i in lista_orders:\n",
        "    dict[i] = dict.get(i, 0) + 1\n",
        "# print(dict)\n",
        "\n",
        "bigcount = None\n",
        "bigword = None\n",
        "for word, count in dict.items():\n",
        "    if bigcount is None or count > bigcount:\n",
        "        bigcount = count\n",
        "        bigword = word\n",
        "# print(bigword, bigcount)\n",
        "\n",
        "print('The highest number of items per order is', bigcount)"
      ],
      "metadata": {
        "colab": {
          "base_uri": "https://localhost:8080/"
        },
        "id": "jP8G8nFrbKil",
        "outputId": "9030a1ec-1989-494d-b8de-cea8592b720c"
      },
      "execution_count": 54,
      "outputs": [
        {
          "output_type": "stream",
          "name": "stdout",
          "text": [
            "The highest number of items per order is 35\n"
          ]
        }
      ]
    },
    {
      "cell_type": "code",
      "source": [
        "# Question 4: What is the number of orders placed in October 2021?\n",
        "\n",
        "datafile = \"./sample_data/orders.csv\"\n",
        "\n",
        "count = 0\n",
        "\n",
        "with open(datafile, 'r') as fl:\n",
        "  csvreader = csv.reader(fl, delimiter=',',  quotechar='\"')\n",
        "  next(csvreader)\n",
        "  \n",
        "  for line in csvreader:\n",
        "      d = line[2].split('-')\n",
        "      if d[0] == '2021' and d[1] == '10':\n",
        "        count += 1\n",
        "# print(count)\n",
        "print('The number of orders placed in October 2021 is ', count)"
      ],
      "metadata": {
        "colab": {
          "base_uri": "https://localhost:8080/"
        },
        "id": "72Z0djFKd-gk",
        "outputId": "3828d331-991e-4b36-ca7e-7a3d517b607f"
      },
      "execution_count": 55,
      "outputs": [
        {
          "output_type": "stream",
          "name": "stdout",
          "text": [
            "The number of orders placed in October 2021 is  437\n"
          ]
        }
      ]
    },
    {
      "cell_type": "code",
      "source": [
        "# Question 5: Which customer spent the most amount of money in 2021?\n",
        "\n",
        "import pandas as pd\n",
        "import csv\n",
        "\n",
        "filename = '/content/sample_data/orders.csv'\n",
        "\n",
        "filename = '/content/sample_data/orders.csv'\n",
        "df = pd.read_csv(filename, header = 0)\n",
        "\n",
        "list_dates = []\n",
        "\n",
        "with open(filename, 'r') as fl:\n",
        "  csvreader = csv.reader(fl, delimiter=',')\n",
        "  next(csvreader)  \n",
        "  for line in csvreader:\n",
        "    list_dates.append(line[2])\n",
        "# print(list_dates)\n",
        "\n",
        "df1 = pd.DataFrame({'Joined date': pd.to_datetime(list_dates)})\n",
        "# print(df1)\n",
        "df['Year'] = df1['Joined date'].dt.year \n",
        "# print(df)\n",
        "df2 = df.loc[df['Year'] == 2021]\n",
        "# print(df2)\n",
        "df3 = df.groupby(['CustomerID'])[['Price']].sum()\n",
        "# print(df3)  \n",
        "# print(df3['Price'].max())\n",
        "# print(df3['Price'].idxmax())\n",
        "# print(df3.value(df3['Price'].idxmax(), 'CustomerID'))\n",
        "\n",
        "\n",
        "print('The customer spent the most amount of money in 2021 was', df3['Price'].idxmax(), 'which spented', df3['Price'].max()  )"
      ],
      "metadata": {
        "colab": {
          "base_uri": "https://localhost:8080/"
        },
        "id": "UgUT6nSrjM8L",
        "outputId": "2de26f46-e10f-4c66-d9f5-1f9a61e5b85c"
      },
      "execution_count": 56,
      "outputs": [
        {
          "output_type": "stream",
          "name": "stdout",
          "text": [
            "The customer spent the most amount of money in 2021 was 5464 which spented 98560.0\n"
          ]
        }
      ]
    },
    {
      "cell_type": "code",
      "source": [
        "# Question 6: Historically, what is the best month for sales?\n",
        "\n",
        "import pandas as pd\n",
        "import csv\n",
        "\n",
        "filename = '/content/sample_data/orders.csv'\n",
        "\n",
        "filename = '/content/sample_data/orders.csv'\n",
        "df = pd.read_csv(filename, header = 0)\n",
        "\n",
        "list_dates = []\n",
        "\n",
        "with open(filename, 'r') as fl:\n",
        "  csvreader = csv.reader(fl, delimiter=',')\n",
        "  next(csvreader)  \n",
        "  for line in csvreader:\n",
        "    list_dates.append(line[2])\n",
        "# print(list_dates)\n",
        "\n",
        "df1 = pd.DataFrame({'Joined date': pd.to_datetime(list_dates)})\n",
        "# print(df1)\n",
        "df['Month'] = df1['Joined date'].dt.month \n",
        "# print(df)\n",
        "\n",
        "df2 = df.groupby(['Month'])[['Price']].sum()\n",
        "# print(df2)  \n",
        "# print(df2['Price'].max())\n",
        "# print(df2['Price'].idxmax())\n",
        "\n",
        "print('The best month for sales is ', 'month', df2['Price'].idxmax())"
      ],
      "metadata": {
        "colab": {
          "base_uri": "https://localhost:8080/"
        },
        "id": "flpMv5eB0c2V",
        "outputId": "66f28780-014b-4cc4-bece-b32150218c61"
      },
      "execution_count": 58,
      "outputs": [
        {
          "output_type": "stream",
          "name": "stdout",
          "text": [
            "The best month for sales is  month 1.0\n"
          ]
        }
      ]
    },
    {
      "cell_type": "markdown",
      "metadata": {
        "id": "ie0JW4FAk6Os"
      },
      "source": [
        "# Finished!\n",
        "\n",
        "Hope this was not too difficult and slicing and dicing the datasets was some fun. Now head on back to the course and provide the answers to the questions from this exercise."
      ]
    }
  ],
  "metadata": {
    "colab": {
      "collapsed_sections": [],
      "name": "Copia de customers_and_orders.ipynb",
      "provenance": [],
      "include_colab_link": true
    },
    "kernelspec": {
      "display_name": "Python 3 (ipykernel)",
      "language": "python",
      "name": "python3"
    },
    "language_info": {
      "codemirror_mode": {
        "name": "ipython",
        "version": 3
      },
      "file_extension": ".py",
      "mimetype": "text/x-python",
      "name": "python",
      "nbconvert_exporter": "python",
      "pygments_lexer": "ipython3",
      "version": "3.9.9"
    }
  },
  "nbformat": 4,
  "nbformat_minor": 0
}